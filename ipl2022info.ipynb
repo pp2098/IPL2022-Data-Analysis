{
  "nbformat": 4,
  "nbformat_minor": 0,
  "metadata": {
    "colab": {
      "name": "ipl2022info.ipynb",
      "provenance": [],
      "collapsed_sections": [],
      "authorship_tag": "ABX9TyMrVF1a/gDtApzdEZyM3+cC",
      "include_colab_link": true
    },
    "kernelspec": {
      "name": "python3",
      "display_name": "Python 3"
    },
    "language_info": {
      "name": "python"
    }
  },
  "cells": [
    {
      "cell_type": "markdown",
      "metadata": {
        "id": "view-in-github",
        "colab_type": "text"
      },
      "source": [
        "<a href=\"https://colab.research.google.com/github/pp2098/IPL2022-Data-Analysis/blob/main/ipl2022info.ipynb\" target=\"_parent\"><img src=\"https://colab.research.google.com/assets/colab-badge.svg\" alt=\"Open In Colab\"/></a>"
      ]
    },
    {
      "cell_type": "code",
      "source": [
        "from google.colab import drive\n",
        "drive.mount('/content/drive')"
      ],
      "metadata": {
        "colab": {
          "base_uri": "https://localhost:8080/"
        },
        "id": "gh7bJkhp46oA",
        "outputId": "197ff62b-1425-49f2-ab13-657c669f8a93"
      },
      "execution_count": null,
      "outputs": [
        {
          "output_type": "stream",
          "name": "stdout",
          "text": [
            "Mounted at /content/drive\n"
          ]
        }
      ]
    },
    {
      "cell_type": "code",
      "source": [
        "import pandas as pd\n",
        "import numpy as np\n",
        "import seaborn as sns\n",
        "import matplotlib.pyplot as plt"
      ],
      "metadata": {
        "id": "p7nqJpUr5Jq9"
      },
      "execution_count": null,
      "outputs": []
    },
    {
      "cell_type": "code",
      "source": [
        "i = pd.read_csv('/content/ipl2022.csv')"
      ],
      "metadata": {
        "id": "ECmxPvQD5NwO"
      },
      "execution_count": null,
      "outputs": []
    },
    {
      "cell_type": "code",
      "source": [
        "i.head(3)"
      ],
      "metadata": {
        "colab": {
          "base_uri": "https://localhost:8080/",
          "height": 364
        },
        "id": "q2W88i1h5dsJ",
        "outputId": "1cef868e-0451-48b2-e819-a6afc52146fa"
      },
      "execution_count": null,
      "outputs": [
        {
          "output_type": "execute_result",
          "data": {
            "text/plain": [
              "        ID    City       Date  Season  MatchNumber                Team1  \\\n",
              "0  1304116  Mumbai  5/22/2022    2022           70  Sunrisers Hyderabad   \n",
              "1  1304115  Mumbai  5/21/2022    2022           69       Delhi Capitals   \n",
              "2  1304114  Mumbai  5/20/2022    2022           68  Chennai Super Kings   \n",
              "\n",
              "              Team2                      Venue           TossWinner  \\\n",
              "0      Punjab Kings   Wankhede Stadium, Mumbai  Sunrisers Hyderabad   \n",
              "1    Mumbai Indians   Wankhede Stadium, Mumbai       Mumbai Indians   \n",
              "2  Rajasthan Royals  Brabourne Stadium, Mumbai  Chennai Super Kings   \n",
              "\n",
              "  TossDecision SuperOver       WinningTeam    WonBy  Margin  method  \\\n",
              "0          bat         N      Punjab Kings  Wickets       5     NaN   \n",
              "1        field         N    Mumbai Indians  Wickets       5     NaN   \n",
              "2          bat         N  Rajasthan Royals  Wickets       5     NaN   \n",
              "\n",
              "  Player_of_Match                                       Team1Players  \\\n",
              "0   Harpreet Brar  ['PK Garg', 'Abhishek Sharma', 'RA Tripathi', ...   \n",
              "1       JJ Bumrah  ['PP Shaw', 'DA Warner', 'MR Marsh', 'RR Pant'...   \n",
              "2        R Ashwin  ['RD Gaikwad', 'DP Conway', 'MM Ali', 'N Jagad...   \n",
              "\n",
              "                                        Team2Players       Umpire1  \\\n",
              "0  ['JM Bairstow', 'S Dhawan', 'M Shahrukh Khan',...  AK Chaudhary   \n",
              "1  ['Ishan Kishan', 'RG Sharma', 'D Brevis', 'Til...   Nitin Menon   \n",
              "2  ['YBK Jaiswal', 'JC Buttler', 'SV Samson', 'D ...   CB Gaffaney   \n",
              "\n",
              "         Umpire2  \n",
              "0  NA Patwardhan  \n",
              "1   Tapan Sharma  \n",
              "2  NA Patwardhan  "
            ],
            "text/html": [
              "\n",
              "  <div id=\"df-8a96be91-fa0a-497f-aaa1-a539fafabf8e\">\n",
              "    <div class=\"colab-df-container\">\n",
              "      <div>\n",
              "<style scoped>\n",
              "    .dataframe tbody tr th:only-of-type {\n",
              "        vertical-align: middle;\n",
              "    }\n",
              "\n",
              "    .dataframe tbody tr th {\n",
              "        vertical-align: top;\n",
              "    }\n",
              "\n",
              "    .dataframe thead th {\n",
              "        text-align: right;\n",
              "    }\n",
              "</style>\n",
              "<table border=\"1\" class=\"dataframe\">\n",
              "  <thead>\n",
              "    <tr style=\"text-align: right;\">\n",
              "      <th></th>\n",
              "      <th>ID</th>\n",
              "      <th>City</th>\n",
              "      <th>Date</th>\n",
              "      <th>Season</th>\n",
              "      <th>MatchNumber</th>\n",
              "      <th>Team1</th>\n",
              "      <th>Team2</th>\n",
              "      <th>Venue</th>\n",
              "      <th>TossWinner</th>\n",
              "      <th>TossDecision</th>\n",
              "      <th>SuperOver</th>\n",
              "      <th>WinningTeam</th>\n",
              "      <th>WonBy</th>\n",
              "      <th>Margin</th>\n",
              "      <th>method</th>\n",
              "      <th>Player_of_Match</th>\n",
              "      <th>Team1Players</th>\n",
              "      <th>Team2Players</th>\n",
              "      <th>Umpire1</th>\n",
              "      <th>Umpire2</th>\n",
              "    </tr>\n",
              "  </thead>\n",
              "  <tbody>\n",
              "    <tr>\n",
              "      <th>0</th>\n",
              "      <td>1304116</td>\n",
              "      <td>Mumbai</td>\n",
              "      <td>5/22/2022</td>\n",
              "      <td>2022</td>\n",
              "      <td>70</td>\n",
              "      <td>Sunrisers Hyderabad</td>\n",
              "      <td>Punjab Kings</td>\n",
              "      <td>Wankhede Stadium, Mumbai</td>\n",
              "      <td>Sunrisers Hyderabad</td>\n",
              "      <td>bat</td>\n",
              "      <td>N</td>\n",
              "      <td>Punjab Kings</td>\n",
              "      <td>Wickets</td>\n",
              "      <td>5</td>\n",
              "      <td>NaN</td>\n",
              "      <td>Harpreet Brar</td>\n",
              "      <td>['PK Garg', 'Abhishek Sharma', 'RA Tripathi', ...</td>\n",
              "      <td>['JM Bairstow', 'S Dhawan', 'M Shahrukh Khan',...</td>\n",
              "      <td>AK Chaudhary</td>\n",
              "      <td>NA Patwardhan</td>\n",
              "    </tr>\n",
              "    <tr>\n",
              "      <th>1</th>\n",
              "      <td>1304115</td>\n",
              "      <td>Mumbai</td>\n",
              "      <td>5/21/2022</td>\n",
              "      <td>2022</td>\n",
              "      <td>69</td>\n",
              "      <td>Delhi Capitals</td>\n",
              "      <td>Mumbai Indians</td>\n",
              "      <td>Wankhede Stadium, Mumbai</td>\n",
              "      <td>Mumbai Indians</td>\n",
              "      <td>field</td>\n",
              "      <td>N</td>\n",
              "      <td>Mumbai Indians</td>\n",
              "      <td>Wickets</td>\n",
              "      <td>5</td>\n",
              "      <td>NaN</td>\n",
              "      <td>JJ Bumrah</td>\n",
              "      <td>['PP Shaw', 'DA Warner', 'MR Marsh', 'RR Pant'...</td>\n",
              "      <td>['Ishan Kishan', 'RG Sharma', 'D Brevis', 'Til...</td>\n",
              "      <td>Nitin Menon</td>\n",
              "      <td>Tapan Sharma</td>\n",
              "    </tr>\n",
              "    <tr>\n",
              "      <th>2</th>\n",
              "      <td>1304114</td>\n",
              "      <td>Mumbai</td>\n",
              "      <td>5/20/2022</td>\n",
              "      <td>2022</td>\n",
              "      <td>68</td>\n",
              "      <td>Chennai Super Kings</td>\n",
              "      <td>Rajasthan Royals</td>\n",
              "      <td>Brabourne Stadium, Mumbai</td>\n",
              "      <td>Chennai Super Kings</td>\n",
              "      <td>bat</td>\n",
              "      <td>N</td>\n",
              "      <td>Rajasthan Royals</td>\n",
              "      <td>Wickets</td>\n",
              "      <td>5</td>\n",
              "      <td>NaN</td>\n",
              "      <td>R Ashwin</td>\n",
              "      <td>['RD Gaikwad', 'DP Conway', 'MM Ali', 'N Jagad...</td>\n",
              "      <td>['YBK Jaiswal', 'JC Buttler', 'SV Samson', 'D ...</td>\n",
              "      <td>CB Gaffaney</td>\n",
              "      <td>NA Patwardhan</td>\n",
              "    </tr>\n",
              "  </tbody>\n",
              "</table>\n",
              "</div>\n",
              "      <button class=\"colab-df-convert\" onclick=\"convertToInteractive('df-8a96be91-fa0a-497f-aaa1-a539fafabf8e')\"\n",
              "              title=\"Convert this dataframe to an interactive table.\"\n",
              "              style=\"display:none;\">\n",
              "        \n",
              "  <svg xmlns=\"http://www.w3.org/2000/svg\" height=\"24px\"viewBox=\"0 0 24 24\"\n",
              "       width=\"24px\">\n",
              "    <path d=\"M0 0h24v24H0V0z\" fill=\"none\"/>\n",
              "    <path d=\"M18.56 5.44l.94 2.06.94-2.06 2.06-.94-2.06-.94-.94-2.06-.94 2.06-2.06.94zm-11 1L8.5 8.5l.94-2.06 2.06-.94-2.06-.94L8.5 2.5l-.94 2.06-2.06.94zm10 10l.94 2.06.94-2.06 2.06-.94-2.06-.94-.94-2.06-.94 2.06-2.06.94z\"/><path d=\"M17.41 7.96l-1.37-1.37c-.4-.4-.92-.59-1.43-.59-.52 0-1.04.2-1.43.59L10.3 9.45l-7.72 7.72c-.78.78-.78 2.05 0 2.83L4 21.41c.39.39.9.59 1.41.59.51 0 1.02-.2 1.41-.59l7.78-7.78 2.81-2.81c.8-.78.8-2.07 0-2.86zM5.41 20L4 18.59l7.72-7.72 1.47 1.35L5.41 20z\"/>\n",
              "  </svg>\n",
              "      </button>\n",
              "      \n",
              "  <style>\n",
              "    .colab-df-container {\n",
              "      display:flex;\n",
              "      flex-wrap:wrap;\n",
              "      gap: 12px;\n",
              "    }\n",
              "\n",
              "    .colab-df-convert {\n",
              "      background-color: #E8F0FE;\n",
              "      border: none;\n",
              "      border-radius: 50%;\n",
              "      cursor: pointer;\n",
              "      display: none;\n",
              "      fill: #1967D2;\n",
              "      height: 32px;\n",
              "      padding: 0 0 0 0;\n",
              "      width: 32px;\n",
              "    }\n",
              "\n",
              "    .colab-df-convert:hover {\n",
              "      background-color: #E2EBFA;\n",
              "      box-shadow: 0px 1px 2px rgba(60, 64, 67, 0.3), 0px 1px 3px 1px rgba(60, 64, 67, 0.15);\n",
              "      fill: #174EA6;\n",
              "    }\n",
              "\n",
              "    [theme=dark] .colab-df-convert {\n",
              "      background-color: #3B4455;\n",
              "      fill: #D2E3FC;\n",
              "    }\n",
              "\n",
              "    [theme=dark] .colab-df-convert:hover {\n",
              "      background-color: #434B5C;\n",
              "      box-shadow: 0px 1px 3px 1px rgba(0, 0, 0, 0.15);\n",
              "      filter: drop-shadow(0px 1px 2px rgba(0, 0, 0, 0.3));\n",
              "      fill: #FFFFFF;\n",
              "    }\n",
              "  </style>\n",
              "\n",
              "      <script>\n",
              "        const buttonEl =\n",
              "          document.querySelector('#df-8a96be91-fa0a-497f-aaa1-a539fafabf8e button.colab-df-convert');\n",
              "        buttonEl.style.display =\n",
              "          google.colab.kernel.accessAllowed ? 'block' : 'none';\n",
              "\n",
              "        async function convertToInteractive(key) {\n",
              "          const element = document.querySelector('#df-8a96be91-fa0a-497f-aaa1-a539fafabf8e');\n",
              "          const dataTable =\n",
              "            await google.colab.kernel.invokeFunction('convertToInteractive',\n",
              "                                                     [key], {});\n",
              "          if (!dataTable) return;\n",
              "\n",
              "          const docLinkHtml = 'Like what you see? Visit the ' +\n",
              "            '<a target=\"_blank\" href=https://colab.research.google.com/notebooks/data_table.ipynb>data table notebook</a>'\n",
              "            + ' to learn more about interactive tables.';\n",
              "          element.innerHTML = '';\n",
              "          dataTable['output_type'] = 'display_data';\n",
              "          await google.colab.output.renderOutput(dataTable, element);\n",
              "          const docLink = document.createElement('div');\n",
              "          docLink.innerHTML = docLinkHtml;\n",
              "          element.appendChild(docLink);\n",
              "        }\n",
              "      </script>\n",
              "    </div>\n",
              "  </div>\n",
              "  "
            ]
          },
          "metadata": {},
          "execution_count": 6
        }
      ]
    },
    {
      "cell_type": "code",
      "source": [
        "i[\"Umpire1\"].value_counts()"
      ],
      "metadata": {
        "colab": {
          "base_uri": "https://localhost:8080/"
        },
        "id": "6fqpo7rNKcIx",
        "outputId": "2344e6dc-2b72-496e-9a4b-01931ea9d27f"
      },
      "execution_count": null,
      "outputs": [
        {
          "output_type": "execute_result",
          "data": {
            "text/plain": [
              "AK Chaudhary             11\n",
              "BNJ Oxenford              8\n",
              "CB Gaffaney               7\n",
              "KN Ananthapadmanabhan     6\n",
              "Chirra Ravikanthreddy     6\n",
              "Nitin Menon               5\n",
              "J Madanagopal             5\n",
              "RJ Tucker                 5\n",
              "R Pandit                  3\n",
              "GR Sadashiv Iyer          3\n",
              "PG Pathak                 3\n",
              "NA Patwardhan             2\n",
              "Navdeep Singh             2\n",
              "M Erasmus                 2\n",
              "HAS Khalid                1\n",
              "MA Gough                  1\n",
              "Name: Umpire1, dtype: int64"
            ]
          },
          "metadata": {},
          "execution_count": 56
        }
      ]
    },
    {
      "cell_type": "code",
      "source": [
        "i[\"Umpire2\"].value_counts()"
      ],
      "metadata": {
        "colab": {
          "base_uri": "https://localhost:8080/"
        },
        "id": "RUuNhNrEKkNJ",
        "outputId": "1ce806d5-a2d2-4c76-85e3-9716cad765ae"
      },
      "execution_count": null,
      "outputs": [
        {
          "output_type": "execute_result",
          "data": {
            "text/plain": [
              "VK Sharma                8\n",
              "UV Gandhe                7\n",
              "N Pandit                 6\n",
              "Tapan Sharma             6\n",
              "YC Barde                 5\n",
              "Nitin Menon              5\n",
              "KN Ananthapadmanabhan    5\n",
              "NA Patwardhan            4\n",
              "HAS Khalid               4\n",
              "GR Sadashiv Iyer         3\n",
              "MA Gough                 3\n",
              "R Pandit                 3\n",
              "J Madanagopal            3\n",
              "Navdeep Singh            3\n",
              "CB Gaffaney              2\n",
              "PG Pathak                2\n",
              "RJ Tucker                1\n",
              "Name: Umpire2, dtype: int64"
            ]
          },
          "metadata": {},
          "execution_count": 57
        }
      ]
    },
    {
      "cell_type": "code",
      "source": [
        "i[\"Margin\"].value_counts().max"
      ],
      "metadata": {
        "colab": {
          "base_uri": "https://localhost:8080/"
        },
        "id": "CYyEXsX-KCGE",
        "outputId": "448055a9-d970-4023-82e8-b68513005797"
      },
      "execution_count": null,
      "outputs": [
        {
          "output_type": "execute_result",
          "data": {
            "text/plain": [
              "<bound method NDFrame._add_numeric_operations.<locals>.max of 5     10\n",
              "6      8\n",
              "7      6\n",
              "8      6\n",
              "3      5\n",
              "54     3\n",
              "4      3\n",
              "23     2\n",
              "12     2\n",
              "18     2\n",
              "9      2\n",
              "13     2\n",
              "67     1\n",
              "15     1\n",
              "14     1\n",
              "44     1\n",
              "2      1\n",
              "17     1\n",
              "37     1\n",
              "16     1\n",
              "24     1\n",
              "62     1\n",
              "75     1\n",
              "36     1\n",
              "11     1\n",
              "29     1\n",
              "52     1\n",
              "20     1\n",
              "91     1\n",
              "21     1\n",
              "61     1\n",
              "Name: Margin, dtype: int64>"
            ]
          },
          "metadata": {},
          "execution_count": 58
        }
      ]
    },
    {
      "cell_type": "code",
      "source": [
        "i.groupby(\"WonBy\")[\"TossWinner\"].value_counts()"
      ],
      "metadata": {
        "colab": {
          "base_uri": "https://localhost:8080/"
        },
        "id": "cHix6X5cJHxw",
        "outputId": "1d2787fa-7beb-4899-ef4f-72a7b5720d30"
      },
      "execution_count": null,
      "outputs": [
        {
          "output_type": "execute_result",
          "data": {
            "text/plain": [
              "WonBy    TossWinner                 \n",
              "Runs     Mumbai Indians                 6\n",
              "         Delhi Capitals                 4\n",
              "         Kolkata Knight Riders          4\n",
              "         Lucknow Super Giants           4\n",
              "         Royal Challengers Bangalore    4\n",
              "         Sunrisers Hyderabad            4\n",
              "         Chennai Super Kings            3\n",
              "         Gujarat Titans                 3\n",
              "         Punjab Kings                   2\n",
              "         Rajasthan Royals               2\n",
              "Wickets  Gujarat Titans                 6\n",
              "         Sunrisers Hyderabad            6\n",
              "         Delhi Capitals                 4\n",
              "         Kolkata Knight Riders          4\n",
              "         Royal Challengers Bangalore    4\n",
              "         Chennai Super Kings            3\n",
              "         Mumbai Indians                 3\n",
              "         Lucknow Super Giants           2\n",
              "         Punjab Kings                   2\n",
              "Name: TossWinner, dtype: int64"
            ]
          },
          "metadata": {},
          "execution_count": 53
        }
      ]
    },
    {
      "cell_type": "code",
      "source": [
        "i.info()"
      ],
      "metadata": {
        "colab": {
          "base_uri": "https://localhost:8080/"
        },
        "id": "Xg6fKpHo5dpL",
        "outputId": "44b16816-8938-4cfb-d312-5e2ff39fdb0a"
      },
      "execution_count": null,
      "outputs": [
        {
          "output_type": "stream",
          "name": "stdout",
          "text": [
            "<class 'pandas.core.frame.DataFrame'>\n",
            "RangeIndex: 70 entries, 0 to 69\n",
            "Data columns (total 20 columns):\n",
            " #   Column           Non-Null Count  Dtype  \n",
            "---  ------           --------------  -----  \n",
            " 0   ID               70 non-null     int64  \n",
            " 1   City             70 non-null     object \n",
            " 2   Date             70 non-null     object \n",
            " 3   Season           70 non-null     int64  \n",
            " 4   MatchNumber      70 non-null     int64  \n",
            " 5   Team1            70 non-null     object \n",
            " 6   Team2            70 non-null     object \n",
            " 7   Venue            70 non-null     object \n",
            " 8   TossWinner       70 non-null     object \n",
            " 9   TossDecision     70 non-null     object \n",
            " 10  SuperOver        70 non-null     object \n",
            " 11  WinningTeam      70 non-null     object \n",
            " 12  WonBy            70 non-null     object \n",
            " 13  Margin           70 non-null     int64  \n",
            " 14  method           0 non-null      float64\n",
            " 15  Player_of_Match  70 non-null     object \n",
            " 16  Team1Players     70 non-null     object \n",
            " 17  Team2Players     70 non-null     object \n",
            " 18  Umpire1          70 non-null     object \n",
            " 19  Umpire2          70 non-null     object \n",
            "dtypes: float64(1), int64(4), object(15)\n",
            "memory usage: 11.1+ KB\n"
          ]
        }
      ]
    },
    {
      "cell_type": "code",
      "source": [
        "i.describe()"
      ],
      "metadata": {
        "colab": {
          "base_uri": "https://localhost:8080/",
          "height": 300
        },
        "id": "hmdCSyAh6uHs",
        "outputId": "4307ef8b-1187-4b72-981b-a197a23580c3"
      },
      "execution_count": null,
      "outputs": [
        {
          "output_type": "execute_result",
          "data": {
            "text/plain": [
              "                 ID  Season  MatchNumber     Margin  method\n",
              "count  7.000000e+01    70.0    70.000000  70.000000     0.0\n",
              "mean   1.304082e+06  2022.0    35.500000  17.442857     NaN\n",
              "std    2.035109e+01     0.0    20.351085  20.096604     NaN\n",
              "min    1.304047e+06  2022.0     1.000000   2.000000     NaN\n",
              "25%    1.304064e+06  2022.0    18.250000   5.000000     NaN\n",
              "50%    1.304082e+06  2022.0    35.500000   8.000000     NaN\n",
              "75%    1.304099e+06  2022.0    52.750000  19.500000     NaN\n",
              "max    1.304116e+06  2022.0    70.000000  91.000000     NaN"
            ],
            "text/html": [
              "\n",
              "  <div id=\"df-232cf3c9-3431-43c1-aaf7-bdaff7d1d730\">\n",
              "    <div class=\"colab-df-container\">\n",
              "      <div>\n",
              "<style scoped>\n",
              "    .dataframe tbody tr th:only-of-type {\n",
              "        vertical-align: middle;\n",
              "    }\n",
              "\n",
              "    .dataframe tbody tr th {\n",
              "        vertical-align: top;\n",
              "    }\n",
              "\n",
              "    .dataframe thead th {\n",
              "        text-align: right;\n",
              "    }\n",
              "</style>\n",
              "<table border=\"1\" class=\"dataframe\">\n",
              "  <thead>\n",
              "    <tr style=\"text-align: right;\">\n",
              "      <th></th>\n",
              "      <th>ID</th>\n",
              "      <th>Season</th>\n",
              "      <th>MatchNumber</th>\n",
              "      <th>Margin</th>\n",
              "      <th>method</th>\n",
              "    </tr>\n",
              "  </thead>\n",
              "  <tbody>\n",
              "    <tr>\n",
              "      <th>count</th>\n",
              "      <td>7.000000e+01</td>\n",
              "      <td>70.0</td>\n",
              "      <td>70.000000</td>\n",
              "      <td>70.000000</td>\n",
              "      <td>0.0</td>\n",
              "    </tr>\n",
              "    <tr>\n",
              "      <th>mean</th>\n",
              "      <td>1.304082e+06</td>\n",
              "      <td>2022.0</td>\n",
              "      <td>35.500000</td>\n",
              "      <td>17.442857</td>\n",
              "      <td>NaN</td>\n",
              "    </tr>\n",
              "    <tr>\n",
              "      <th>std</th>\n",
              "      <td>2.035109e+01</td>\n",
              "      <td>0.0</td>\n",
              "      <td>20.351085</td>\n",
              "      <td>20.096604</td>\n",
              "      <td>NaN</td>\n",
              "    </tr>\n",
              "    <tr>\n",
              "      <th>min</th>\n",
              "      <td>1.304047e+06</td>\n",
              "      <td>2022.0</td>\n",
              "      <td>1.000000</td>\n",
              "      <td>2.000000</td>\n",
              "      <td>NaN</td>\n",
              "    </tr>\n",
              "    <tr>\n",
              "      <th>25%</th>\n",
              "      <td>1.304064e+06</td>\n",
              "      <td>2022.0</td>\n",
              "      <td>18.250000</td>\n",
              "      <td>5.000000</td>\n",
              "      <td>NaN</td>\n",
              "    </tr>\n",
              "    <tr>\n",
              "      <th>50%</th>\n",
              "      <td>1.304082e+06</td>\n",
              "      <td>2022.0</td>\n",
              "      <td>35.500000</td>\n",
              "      <td>8.000000</td>\n",
              "      <td>NaN</td>\n",
              "    </tr>\n",
              "    <tr>\n",
              "      <th>75%</th>\n",
              "      <td>1.304099e+06</td>\n",
              "      <td>2022.0</td>\n",
              "      <td>52.750000</td>\n",
              "      <td>19.500000</td>\n",
              "      <td>NaN</td>\n",
              "    </tr>\n",
              "    <tr>\n",
              "      <th>max</th>\n",
              "      <td>1.304116e+06</td>\n",
              "      <td>2022.0</td>\n",
              "      <td>70.000000</td>\n",
              "      <td>91.000000</td>\n",
              "      <td>NaN</td>\n",
              "    </tr>\n",
              "  </tbody>\n",
              "</table>\n",
              "</div>\n",
              "      <button class=\"colab-df-convert\" onclick=\"convertToInteractive('df-232cf3c9-3431-43c1-aaf7-bdaff7d1d730')\"\n",
              "              title=\"Convert this dataframe to an interactive table.\"\n",
              "              style=\"display:none;\">\n",
              "        \n",
              "  <svg xmlns=\"http://www.w3.org/2000/svg\" height=\"24px\"viewBox=\"0 0 24 24\"\n",
              "       width=\"24px\">\n",
              "    <path d=\"M0 0h24v24H0V0z\" fill=\"none\"/>\n",
              "    <path d=\"M18.56 5.44l.94 2.06.94-2.06 2.06-.94-2.06-.94-.94-2.06-.94 2.06-2.06.94zm-11 1L8.5 8.5l.94-2.06 2.06-.94-2.06-.94L8.5 2.5l-.94 2.06-2.06.94zm10 10l.94 2.06.94-2.06 2.06-.94-2.06-.94-.94-2.06-.94 2.06-2.06.94z\"/><path d=\"M17.41 7.96l-1.37-1.37c-.4-.4-.92-.59-1.43-.59-.52 0-1.04.2-1.43.59L10.3 9.45l-7.72 7.72c-.78.78-.78 2.05 0 2.83L4 21.41c.39.39.9.59 1.41.59.51 0 1.02-.2 1.41-.59l7.78-7.78 2.81-2.81c.8-.78.8-2.07 0-2.86zM5.41 20L4 18.59l7.72-7.72 1.47 1.35L5.41 20z\"/>\n",
              "  </svg>\n",
              "      </button>\n",
              "      \n",
              "  <style>\n",
              "    .colab-df-container {\n",
              "      display:flex;\n",
              "      flex-wrap:wrap;\n",
              "      gap: 12px;\n",
              "    }\n",
              "\n",
              "    .colab-df-convert {\n",
              "      background-color: #E8F0FE;\n",
              "      border: none;\n",
              "      border-radius: 50%;\n",
              "      cursor: pointer;\n",
              "      display: none;\n",
              "      fill: #1967D2;\n",
              "      height: 32px;\n",
              "      padding: 0 0 0 0;\n",
              "      width: 32px;\n",
              "    }\n",
              "\n",
              "    .colab-df-convert:hover {\n",
              "      background-color: #E2EBFA;\n",
              "      box-shadow: 0px 1px 2px rgba(60, 64, 67, 0.3), 0px 1px 3px 1px rgba(60, 64, 67, 0.15);\n",
              "      fill: #174EA6;\n",
              "    }\n",
              "\n",
              "    [theme=dark] .colab-df-convert {\n",
              "      background-color: #3B4455;\n",
              "      fill: #D2E3FC;\n",
              "    }\n",
              "\n",
              "    [theme=dark] .colab-df-convert:hover {\n",
              "      background-color: #434B5C;\n",
              "      box-shadow: 0px 1px 3px 1px rgba(0, 0, 0, 0.15);\n",
              "      filter: drop-shadow(0px 1px 2px rgba(0, 0, 0, 0.3));\n",
              "      fill: #FFFFFF;\n",
              "    }\n",
              "  </style>\n",
              "\n",
              "      <script>\n",
              "        const buttonEl =\n",
              "          document.querySelector('#df-232cf3c9-3431-43c1-aaf7-bdaff7d1d730 button.colab-df-convert');\n",
              "        buttonEl.style.display =\n",
              "          google.colab.kernel.accessAllowed ? 'block' : 'none';\n",
              "\n",
              "        async function convertToInteractive(key) {\n",
              "          const element = document.querySelector('#df-232cf3c9-3431-43c1-aaf7-bdaff7d1d730');\n",
              "          const dataTable =\n",
              "            await google.colab.kernel.invokeFunction('convertToInteractive',\n",
              "                                                     [key], {});\n",
              "          if (!dataTable) return;\n",
              "\n",
              "          const docLinkHtml = 'Like what you see? Visit the ' +\n",
              "            '<a target=\"_blank\" href=https://colab.research.google.com/notebooks/data_table.ipynb>data table notebook</a>'\n",
              "            + ' to learn more about interactive tables.';\n",
              "          element.innerHTML = '';\n",
              "          dataTable['output_type'] = 'display_data';\n",
              "          await google.colab.output.renderOutput(dataTable, element);\n",
              "          const docLink = document.createElement('div');\n",
              "          docLink.innerHTML = docLinkHtml;\n",
              "          element.appendChild(docLink);\n",
              "        }\n",
              "      </script>\n",
              "    </div>\n",
              "  </div>\n",
              "  "
            ]
          },
          "metadata": {},
          "execution_count": 8
        }
      ]
    },
    {
      "cell_type": "code",
      "source": [
        "i.isna().sum()"
      ],
      "metadata": {
        "colab": {
          "base_uri": "https://localhost:8080/"
        },
        "id": "i9boxzYS7LzV",
        "outputId": "831d3e62-f957-4742-f47a-0008f569f0f4"
      },
      "execution_count": null,
      "outputs": [
        {
          "output_type": "execute_result",
          "data": {
            "text/plain": [
              "ID                  0\n",
              "City                0\n",
              "Date                0\n",
              "Season              0\n",
              "MatchNumber         0\n",
              "Team1               0\n",
              "Team2               0\n",
              "Venue               0\n",
              "TossWinner          0\n",
              "TossDecision        0\n",
              "SuperOver           0\n",
              "WinningTeam         0\n",
              "WonBy               0\n",
              "Margin              0\n",
              "method             70\n",
              "Player_of_Match     0\n",
              "Team1Players        0\n",
              "Team2Players        0\n",
              "Umpire1             0\n",
              "Umpire2             0\n",
              "dtype: int64"
            ]
          },
          "metadata": {},
          "execution_count": 9
        }
      ]
    },
    {
      "cell_type": "code",
      "source": [
        "i.shape"
      ],
      "metadata": {
        "colab": {
          "base_uri": "https://localhost:8080/"
        },
        "id": "3DgYpH_68hZu",
        "outputId": "c7f6f9a8-98d7-46b7-bade-464fe04a2d81"
      },
      "execution_count": null,
      "outputs": [
        {
          "output_type": "execute_result",
          "data": {
            "text/plain": [
              "(70, 20)"
            ]
          },
          "metadata": {},
          "execution_count": 11
        }
      ]
    },
    {
      "cell_type": "code",
      "source": [
        "i[\"ID\"].count()"
      ],
      "metadata": {
        "colab": {
          "base_uri": "https://localhost:8080/"
        },
        "id": "EfrvIfX680i8",
        "outputId": "d5f97bf2-6789-4c28-ae17-1ea50b84a1c9"
      },
      "execution_count": null,
      "outputs": [
        {
          "output_type": "execute_result",
          "data": {
            "text/plain": [
              "70"
            ]
          },
          "metadata": {},
          "execution_count": 12
        }
      ]
    },
    {
      "cell_type": "code",
      "source": [
        "i[\"WinningTeam\"].value_counts()"
      ],
      "metadata": {
        "colab": {
          "base_uri": "https://localhost:8080/"
        },
        "id": "giV0IcWs89LQ",
        "outputId": "b9787801-3448-4f75-82ca-04aa850f3ec6"
      },
      "execution_count": null,
      "outputs": [
        {
          "output_type": "execute_result",
          "data": {
            "text/plain": [
              "Gujarat Titans                 10\n",
              "Rajasthan Royals                9\n",
              "Lucknow Super Giants            9\n",
              "Royal Challengers Bangalore     8\n",
              "Punjab Kings                    7\n",
              "Delhi Capitals                  7\n",
              "Sunrisers Hyderabad             6\n",
              "Kolkata Knight Riders           6\n",
              "Mumbai Indians                  4\n",
              "Chennai Super Kings             4\n",
              "Name: WinningTeam, dtype: int64"
            ]
          },
          "metadata": {},
          "execution_count": 34
        }
      ]
    },
    {
      "cell_type": "code",
      "source": [
        "i[\"Player_of_Match\"].value_counts()"
      ],
      "metadata": {
        "colab": {
          "base_uri": "https://localhost:8080/"
        },
        "id": "Tsf6XTA_9VIn",
        "outputId": "9b9e0356-01f9-47a5-8be2-a49d719b3956"
      },
      "execution_count": null,
      "outputs": [
        {
          "output_type": "execute_result",
          "data": {
            "text/plain": [
              "Kuldeep Yadav       4\n",
              "PWH de Silva        2\n",
              "UT Yadav            2\n",
              "KD Karthik          2\n",
              "KL Rahul            2\n",
              "Shubman Gill        2\n",
              "YS Chahal           2\n",
              "JC Buttler          2\n",
              "JJ Bumrah           2\n",
              "RA Tripathi         2\n",
              "Q de Kock           2\n",
              "Umran Malik         2\n",
              "Avesh Khan          2\n",
              "Rashid Khan         1\n",
              "HH Pandya           1\n",
              "Mukesh Choudhary    1\n",
              "F du Plessis        1\n",
              "DA Miller           1\n",
              "Harpreet Brar       1\n",
              "MA Agarwal          1\n",
              "S Dube              1\n",
              "KS Williamson       1\n",
              "Anuj Rawat          1\n",
              "Abhishek Sharma     1\n",
              "PJ Cummins          1\n",
              "LS Livingstone      1\n",
              "LH Ferguson         1\n",
              "E Lewis             1\n",
              "SV Samson           1\n",
              "Mohammed Shami      1\n",
              "M Jansen            1\n",
              "KH Pandya           1\n",
              "S Dhawan            1\n",
              "DP Conway           1\n",
              "R Ashwin            1\n",
              "V Kohli             1\n",
              "SN Thakur           1\n",
              "TA Boult            1\n",
              "WP Saha             1\n",
              "AD Russell          1\n",
              "JM Bairstow         1\n",
              "DR Sams             1\n",
              "MR Marsh            1\n",
              "YBK Jaiswal         1\n",
              "R Parag             1\n",
              "TH David            1\n",
              "DA Warner           1\n",
              "HV Patel            1\n",
              "K Rabada            1\n",
              "RK Singh            1\n",
              "RD Gaikwad          1\n",
              "Mohsin Khan         1\n",
              "SA Yadav            1\n",
              "R Tewatia           1\n",
              "OF Smith            1\n",
              "Name: Player_of_Match, dtype: int64"
            ]
          },
          "metadata": {},
          "execution_count": 23
        }
      ]
    },
    {
      "cell_type": "code",
      "source": [
        "i1=i.WinningTeam.value_counts()\n",
        "sns.barplot(y=i1.index, x=i1)"
      ],
      "metadata": {
        "colab": {
          "base_uri": "https://localhost:8080/",
          "height": 296
        },
        "id": "vEHXVELr-fTd",
        "outputId": "d6b2d497-ceaa-495d-fdb0-c8abd5363f7c"
      },
      "execution_count": null,
      "outputs": [
        {
          "output_type": "execute_result",
          "data": {
            "text/plain": [
              "<matplotlib.axes._subplots.AxesSubplot at 0x7f01d1612bd0>"
            ]
          },
          "metadata": {},
          "execution_count": 25
        },
        {
          "output_type": "display_data",
          "data": {
            "text/plain": [
              "<Figure size 432x288 with 1 Axes>"
            ],
            "image/png": "[encoded data removed]"
          },
          "metadata": {
            "needs_background": "light"
          }
        }
      ]
    },
    {
      "cell_type": "code",
      "source": [
        "probability_of_win=i[\"TossWinner\"]==i[\"WinningTeam\"]\n",
        "probability_of_win.groupby(probability_of_win).size()\n",
        "sns.countplot(probability_of_win)"
      ],
      "metadata": {
        "colab": {
          "base_uri": "https://localhost:8080/",
          "height": 337
        },
        "id": "LrMg5PgI_OJN",
        "outputId": "b3480998-77ec-4022-9224-c8b0c33a2624"
      },
      "execution_count": null,
      "outputs": [
        {
          "output_type": "stream",
          "name": "stderr",
          "text": [
            "/usr/local/lib/python3.7/dist-packages/seaborn/_decorators.py:43: FutureWarning: Pass the following variable as a keyword arg: x. From version 0.12, the only valid positional argument will be `data`, and passing other arguments without an explicit keyword will result in an error or misinterpretation.\n",
            "  FutureWarning\n"
          ]
        },
        {
          "output_type": "execute_result",
          "data": {
            "text/plain": [
              "<matplotlib.axes._subplots.AxesSubplot at 0x7f01c243c0d0>"
            ]
          },
          "metadata": {},
          "execution_count": 27
        },
        {
          "output_type": "display_data",
          "data": {
            "text/plain": [
              "<Figure size 432x288 with 1 Axes>"
            ],
            "image/png": "[encoded data removed]"
          },
          "metadata": {
            "needs_background": "light"
          }
        }
      ]
    },
    {
      "cell_type": "code",
      "source": [
        "i[\"TossDecision\"].value_counts()"
      ],
      "metadata": {
        "colab": {
          "base_uri": "https://localhost:8080/"
        },
        "id": "_jErA4mj_2Qo",
        "outputId": "22228243-8323-422c-92df-e80ea71eedfb"
      },
      "execution_count": null,
      "outputs": [
        {
          "output_type": "execute_result",
          "data": {
            "text/plain": [
              "field    56\n",
              "bat      14\n",
              "Name: TossDecision, dtype: int64"
            ]
          },
          "metadata": {},
          "execution_count": 28
        }
      ]
    },
    {
      "cell_type": "code",
      "source": [
        "i.groupby(\"TossWinner\")[\"WinningTeam\"].value_counts()"
      ],
      "metadata": {
        "colab": {
          "base_uri": "https://localhost:8080/"
        },
        "id": "rlClNkc0AKoS",
        "outputId": "7355fdfb-ac01-4b04-bfa2-d6108b74d75a"
      },
      "execution_count": null,
      "outputs": [
        {
          "output_type": "execute_result",
          "data": {
            "text/plain": [
              "TossWinner                   WinningTeam                \n",
              "Chennai Super Kings          Punjab Kings                   2\n",
              "                             Chennai Super Kings            1\n",
              "                             Gujarat Titans                 1\n",
              "                             Rajasthan Royals               1\n",
              "                             Royal Challengers Bangalore    1\n",
              "Delhi Capitals               Delhi Capitals                 4\n",
              "                             Chennai Super Kings            1\n",
              "                             Gujarat Titans                 1\n",
              "                             Rajasthan Royals               1\n",
              "                             Royal Challengers Bangalore    1\n",
              "Gujarat Titans               Gujarat Titans                 6\n",
              "                             Mumbai Indians                 1\n",
              "                             Punjab Kings                   1\n",
              "                             Royal Challengers Bangalore    1\n",
              "Kolkata Knight Riders        Kolkata Knight Riders          5\n",
              "                             Delhi Capitals                 1\n",
              "                             Lucknow Super Giants           1\n",
              "                             Rajasthan Royals               1\n",
              "Lucknow Super Giants         Lucknow Super Giants           4\n",
              "                             Rajasthan Royals               1\n",
              "                             Royal Challengers Bangalore    1\n",
              "Mumbai Indians               Mumbai Indians                 3\n",
              "                             Lucknow Super Giants           2\n",
              "                             Kolkata Knight Riders          1\n",
              "                             Punjab Kings                   1\n",
              "                             Rajasthan Royals               1\n",
              "                             Sunrisers Hyderabad            1\n",
              "Punjab Kings                 Delhi Capitals                 1\n",
              "                             Lucknow Super Giants           1\n",
              "                             Punjab Kings                   1\n",
              "                             Rajasthan Royals               1\n",
              "Rajasthan Royals             Gujarat Titans                 1\n",
              "                             Rajasthan Royals               1\n",
              "Royal Challengers Bangalore  Royal Challengers Bangalore    4\n",
              "                             Chennai Super Kings            1\n",
              "                             Gujarat Titans                 1\n",
              "                             Punjab Kings                   1\n",
              "                             Rajasthan Royals               1\n",
              "Sunrisers Hyderabad          Sunrisers Hyderabad            5\n",
              "                             Chennai Super Kings            1\n",
              "                             Delhi Capitals                 1\n",
              "                             Lucknow Super Giants           1\n",
              "                             Punjab Kings                   1\n",
              "                             Rajasthan Royals               1\n",
              "Name: WinningTeam, dtype: int64"
            ]
          },
          "metadata": {},
          "execution_count": 45
        }
      ]
    },
    {
      "cell_type": "code",
      "source": [
        "sns.scatterplot(x=i[\"TossWinner\"], y=i[\"WinningTeam\"], data = i)\n",
        "plt.show()"
      ],
      "metadata": {
        "colab": {
          "base_uri": "https://localhost:8080/",
          "height": 279
        },
        "id": "duSwz9CgApKN",
        "outputId": "909a0842-cf97-4d36-fb24-3d52c3ee1d5c"
      },
      "execution_count": null,
      "outputs": [
        {
          "output_type": "display_data",
          "data": {
            "text/plain": [
              "<Figure size 432x288 with 1 Axes>"
            ],
            "image/png": "[encoded data removed]"
          },
          "metadata": {
            "needs_background": "light"
          }
        }
      ]
    },
    {
      "cell_type": "code",
      "source": [
        "i[\"City\"].value_counts()"
      ],
      "metadata": {
        "colab": {
          "base_uri": "https://localhost:8080/"
        },
        "id": "6A2zlPEVBTWT",
        "outputId": "949a4a8c-3858-4c89-f59d-6930c0472b75"
      },
      "execution_count": null,
      "outputs": [
        {
          "output_type": "execute_result",
          "data": {
            "text/plain": [
              "Mumbai         48\n",
              "Pune           13\n",
              "Navi Mumbai     9\n",
              "Name: City, dtype: int64"
            ]
          },
          "metadata": {},
          "execution_count": 33
        }
      ]
    },
    {
      "cell_type": "code",
      "source": [
        "\n",
        "i.groupby(\"TossDecision\")[\"WinningTeam\"].value_counts()"
      ],
      "metadata": {
        "colab": {
          "base_uri": "https://localhost:8080/"
        },
        "id": "r3YsZD0MDO6F",
        "outputId": "2b0f4f47-150e-4f16-af7c-0374abb669d1"
      },
      "execution_count": null,
      "outputs": [
        {
          "output_type": "execute_result",
          "data": {
            "text/plain": [
              "TossDecision  WinningTeam                \n",
              "bat           Gujarat Titans                 4\n",
              "              Rajasthan Royals               3\n",
              "              Lucknow Super Giants           2\n",
              "              Punjab Kings                   2\n",
              "              Royal Challengers Bangalore    2\n",
              "              Kolkata Knight Riders          1\n",
              "field         Delhi Capitals                 7\n",
              "              Lucknow Super Giants           7\n",
              "              Gujarat Titans                 6\n",
              "              Rajasthan Royals               6\n",
              "              Royal Challengers Bangalore    6\n",
              "              Sunrisers Hyderabad            6\n",
              "              Kolkata Knight Riders          5\n",
              "              Punjab Kings                   5\n",
              "              Chennai Super Kings            4\n",
              "              Mumbai Indians                 4\n",
              "Name: WinningTeam, dtype: int64"
            ]
          },
          "metadata": {},
          "execution_count": 43
        }
      ]
    },
    {
      "cell_type": "code",
      "source": [
        "sns.histplot(x=i[\"TossDecision\"], y=i[\"WinningTeam\"], data=i)\n",
        "plt.show()"
      ],
      "metadata": {
        "colab": {
          "base_uri": "https://localhost:8080/",
          "height": 279
        },
        "id": "Uqc4ILpEEiFF",
        "outputId": "1b4ff709-905d-4838-ef54-d8cd91f340dd"
      },
      "execution_count": null,
      "outputs": [
        {
          "output_type": "display_data",
          "data": {
            "text/plain": [
              "<Figure size 432x288 with 1 Axes>"
            ],
            "image/png": "[encoded data removed]"
          },
          "metadata": {
            "needs_background": "light"
          }
        }
      ]
    },
    {
      "cell_type": "code",
      "source": [
        "  "
      ],
      "metadata": {
        "id": "AQ2pRDJJFk01"
      },
      "execution_count": null,
      "outputs": []
    }
  ]
}